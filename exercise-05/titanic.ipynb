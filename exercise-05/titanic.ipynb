{
 "cells": [
  {
   "cell_type": "code",
   "execution_count": 61,
   "metadata": {},
   "outputs": [],
   "source": [
    "import pandas as pd\n",
    "#import lux\n",
    "import numpy as np\n",
    "from sklearn import datasets, linear_model\n",
    "from sklearn.metrics import precision_score,f1_score,recall_score\n"
   ]
  },
  {
   "cell_type": "code",
   "execution_count": 35,
   "metadata": {},
   "outputs": [],
   "source": [
    "# read the data from a CSV file (included in the repository)\n",
    "df = pd.read_csv(\"data/train.csv\")"
   ]
  },
  {
   "cell_type": "code",
   "execution_count": 37,
   "metadata": {},
   "outputs": [
    {
     "data": {
      "text/plain": [
       "0        1\n",
       "1        2\n",
       "2        3\n",
       "3        4\n",
       "4        5\n",
       "      ... \n",
       "886    887\n",
       "887    888\n",
       "888    889\n",
       "889    890\n",
       "890    891\n",
       "Name: PassengerId, Length: 891, dtype: int64"
      ]
     },
     "execution_count": 37,
     "metadata": {},
     "output_type": "execute_result"
    }
   ],
   "source": [
    "# 1. Remove the columns \"Name\" and \"PassengerId\" (because we know they are irrelevant for our problem).\n",
    "df.pop('Name')\n",
    "df.pop('PassengerId')\n"
   ]
  },
  {
   "cell_type": "code",
   "execution_count": 39,
   "metadata": {},
   "outputs": [
    {
     "name": "stderr",
     "output_type": "stream",
     "text": [
      "C:\\Users\\Jan\\AppData\\Local\\Temp\\ipykernel_14628\\2489652324.py:7: SettingWithCopyWarning: \n",
      "A value is trying to be set on a copy of a slice from a DataFrame\n",
      "\n",
      "See the caveats in the documentation: https://pandas.pydata.org/pandas-docs/stable/user_guide/indexing.html#returning-a-view-versus-a-copy\n",
      "  df['Sex'][i] = 0\n",
      "C:\\Users\\Jan\\AppData\\Local\\Temp\\ipykernel_14628\\2489652324.py:15: SettingWithCopyWarning: \n",
      "A value is trying to be set on a copy of a slice from a DataFrame\n",
      "\n",
      "See the caveats in the documentation: https://pandas.pydata.org/pandas-docs/stable/user_guide/indexing.html#returning-a-view-versus-a-copy\n",
      "  df['Embarked'][i] = 19\n",
      "C:\\Users\\Jan\\AppData\\Local\\Temp\\ipykernel_14628\\2489652324.py:28: SettingWithCopyWarning: \n",
      "A value is trying to be set on a copy of a slice from a DataFrame\n",
      "\n",
      "See the caveats in the documentation: https://pandas.pydata.org/pandas-docs/stable/user_guide/indexing.html#returning-a-view-versus-a-copy\n",
      "  df['Cabin'][i] = 0\n",
      "C:\\Users\\Jan\\AppData\\Local\\Temp\\ipykernel_14628\\2489652324.py:9: SettingWithCopyWarning: \n",
      "A value is trying to be set on a copy of a slice from a DataFrame\n",
      "\n",
      "See the caveats in the documentation: https://pandas.pydata.org/pandas-docs/stable/user_guide/indexing.html#returning-a-view-versus-a-copy\n",
      "  df['Sex'][i] = 1\n",
      "C:\\Users\\Jan\\AppData\\Local\\Temp\\ipykernel_14628\\2489652324.py:17: SettingWithCopyWarning: \n",
      "A value is trying to be set on a copy of a slice from a DataFrame\n",
      "\n",
      "See the caveats in the documentation: https://pandas.pydata.org/pandas-docs/stable/user_guide/indexing.html#returning-a-view-versus-a-copy\n",
      "  df['Embarked'][i] = 3\n",
      "C:\\Users\\Jan\\AppData\\Local\\Temp\\ipykernel_14628\\2489652324.py:26: SettingWithCopyWarning: \n",
      "A value is trying to be set on a copy of a slice from a DataFrame\n",
      "\n",
      "See the caveats in the documentation: https://pandas.pydata.org/pandas-docs/stable/user_guide/indexing.html#returning-a-view-versus-a-copy\n",
      "  df['Cabin'][i] = 1\n",
      "C:\\Users\\Jan\\AppData\\Local\\Temp\\ipykernel_14628\\2489652324.py:19: SettingWithCopyWarning: \n",
      "A value is trying to be set on a copy of a slice from a DataFrame\n",
      "\n",
      "See the caveats in the documentation: https://pandas.pydata.org/pandas-docs/stable/user_guide/indexing.html#returning-a-view-versus-a-copy\n",
      "  df['Embarked'][i] = 17\n"
     ]
    }
   ],
   "source": [
    "# 2. Convert all non-numeric columns into numeric ones. The non-numeric columns are \"Sex\" x, \"Cabin\" x, \"Ticket\" and \"Embarked\" x.\n",
    "N = len(df['Sex'])\n",
    "for i in range(N):\n",
    "\n",
    "    s = df['Sex'][i]\n",
    "    if  s == 'male':\n",
    "        df['Sex'][i] = 0\n",
    "    elif s == 'female':\n",
    "        df['Sex'][i] = 1\n",
    "    else:\n",
    "        None \n",
    "\n",
    "    e = df['Embarked'][i]\n",
    "    if  e == 'S':\n",
    "        df['Embarked'][i] = 19\n",
    "    elif e == 'C':\n",
    "        df['Embarked'][i] = 3\n",
    "    elif e == 'Q':\n",
    "        df['Embarked'][i] = 17     \n",
    "    else:\n",
    "        None\n",
    "\n",
    "    c = df['Cabin'][i] #if cabin is known, 1, else 0\n",
    "\n",
    "    if type(c) == str:\n",
    "        df['Cabin'][i] = 1\n",
    "    else:\n",
    "        df['Cabin'][i] = 0    "
   ]
  },
  {
   "cell_type": "code",
   "execution_count": 40,
   "metadata": {},
   "outputs": [
    {
     "data": {
      "text/plain": [
       "0             A/5 21171\n",
       "1              PC 17599\n",
       "2      STON/O2. 3101282\n",
       "3                113803\n",
       "4                373450\n",
       "             ...       \n",
       "886              211536\n",
       "887              112053\n",
       "888          W./C. 6607\n",
       "889              111369\n",
       "890              370376\n",
       "Name: Ticket, Length: 891, dtype: object"
      ]
     },
     "execution_count": 40,
     "metadata": {},
     "output_type": "execute_result"
    }
   ],
   "source": [
    "df.pop('Ticket')"
   ]
  },
  {
   "cell_type": "code",
   "execution_count": 49,
   "metadata": {},
   "outputs": [],
   "source": [
    "# 3. Remove all rows that contain missing values\n",
    "df=df.dropna()"
   ]
  },
  {
   "cell_type": "markdown",
   "metadata": {},
   "source": [
    "# Step 4"
   ]
  },
  {
   "cell_type": "code",
   "execution_count": 50,
   "metadata": {},
   "outputs": [],
   "source": [
    "# 1. As a next step, we need to split the input features from the training labels. This can be done easily with `pandas`.\n",
    "features = ['Pclass','Sex','Age','SibSp','Parch','Fare','Cabin','Embarked']\n",
    "target = ['Survived']"
   ]
  },
  {
   "cell_type": "code",
   "execution_count": 44,
   "metadata": {},
   "outputs": [],
   "source": [
    "# 2. Secondly, we need to split training and test data. This can be done with the function [`sklearn.model_selection.train_test_split()`](https://scikit-learn.org/stable/modules/generated/sklearn.model_selection.train_test_split.html#sklearn.model_selection.train_test_split) from the `scikit-learn` library.\n",
    "\n",
    "def TrainTestSplit(D,features,split = 0.2):\n",
    "    T = int(len(D)*split) #Länge des Testanteils\n",
    "\n",
    "    return [df[features][:T],df[target][:T]],[df[features][T:],df[target][T:]] #Erst Test, dann Trainingsintervall\n"
   ]
  },
  {
   "cell_type": "code",
   "execution_count": 45,
   "metadata": {},
   "outputs": [],
   "source": [
    "# 3. Finally, initialize a LogisticRegression object with a `liblinear` solver, and fit it to the training data.\n",
    "\n",
    "def fit_model(x_train,y_train,x_test,y_test,regrtype= linear_model.LogisticRegression(penalty='none')):\n",
    "    if type(x_train)== pd.core.frame.DataFrame:\n",
    "        x_train = np.array(x_train)\n",
    "        y_train = np.array(y_train)\n",
    "        x_test = np.array(x_test)\n",
    "        y_test = np.array(y_test)\n",
    "\n",
    "    \n",
    "    model = regrtype\n",
    "    model.fit(x_train,y_train)\n",
    "    y_pred= model.predict(x_test)\n",
    "    return model.coef_,y_pred\n"
   ]
  },
  {
   "cell_type": "code",
   "execution_count": 51,
   "metadata": {},
   "outputs": [],
   "source": [
    "\n",
    "data_train,data_test= TrainTestSplit(df,features)\n"
   ]
  },
  {
   "cell_type": "code",
   "execution_count": 57,
   "metadata": {},
   "outputs": [
    {
     "name": "stderr",
     "output_type": "stream",
     "text": [
      "c:\\Users\\Jan\\miniconda3\\envs\\normal\\lib\\site-packages\\sklearn\\utils\\validation.py:1111: DataConversionWarning: A column-vector y was passed when a 1d array was expected. Please change the shape of y to (n_samples, ), for example using ravel().\n",
      "  y = column_or_1d(y, warn=True)\n",
      "c:\\Users\\Jan\\miniconda3\\envs\\normal\\lib\\site-packages\\sklearn\\linear_model\\_logistic.py:444: ConvergenceWarning: lbfgs failed to converge (status=1):\n",
      "STOP: TOTAL NO. of ITERATIONS REACHED LIMIT.\n",
      "\n",
      "Increase the number of iterations (max_iter) or scale the data as shown in:\n",
      "    https://scikit-learn.org/stable/modules/preprocessing.html\n",
      "Please also refer to the documentation for alternative solver options:\n",
      "    https://scikit-learn.org/stable/modules/linear_model.html#logistic-regression\n",
      "  n_iter_i = _check_optimize_result(\n"
     ]
    }
   ],
   "source": [
    "coef,y_pred= fit_model(data_train[0],data_train[1],data_test[0],data_test[1])\n",
    "y_test = data_test[1]"
   ]
  },
  {
   "cell_type": "code",
   "execution_count": 64,
   "metadata": {},
   "outputs": [
    {
     "name": "stdout",
     "output_type": "stream",
     "text": [
      "precision score: 0.7978723404255319 \n",
      " f1 score : 0.6944444444444443 \n",
      " recall score: 0.6147540983606558\n"
     ]
    }
   ],
   "source": [
    "# 4. Lastly, calculate precision/recall/f-score on the test data using the appropriate functions from `scikit-learn`.\n",
    "print('precision score:', precision_score(y_test,y_pred),'\\n', 'f1 score :', f1_score(y_test,y_pred),'\\n','recall score:', recall_score(y_test,y_pred))\n"
   ]
  }
 ],
 "metadata": {
  "kernelspec": {
   "display_name": "Python 3.9.15 ('normal')",
   "language": "python",
   "name": "python3"
  },
  "language_info": {
   "codemirror_mode": {
    "name": "ipython",
    "version": 3
   },
   "file_extension": ".py",
   "mimetype": "text/x-python",
   "name": "python",
   "nbconvert_exporter": "python",
   "pygments_lexer": "ipython3",
   "version": "3.9.15"
  },
  "orig_nbformat": 4,
  "vscode": {
   "interpreter": {
    "hash": "631c4590b7d06ac23d51b6d0b377528e4d33a981be3f8dd014bf554cfa5bfa39"
   }
  }
 },
 "nbformat": 4,
 "nbformat_minor": 2
}
